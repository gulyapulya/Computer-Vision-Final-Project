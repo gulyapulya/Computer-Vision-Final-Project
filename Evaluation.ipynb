{
 "cells": [
  {
   "cell_type": "markdown",
   "id": "defcbf83",
   "metadata": {},
   "source": [
    "# Collected data"
   ]
  },
  {
   "cell_type": "code",
   "execution_count": null,
   "id": "e9024387",
   "metadata": {},
   "outputs": [],
   "source": [
    "import pandas as pd\n",
    "\n",
    "df = pd.read_csv('eval.csv')\n",
    "\n",
    "print(df.to_markdown(index=False)) "
   ]
  },
  {
   "cell_type": "markdown",
   "id": "329163d8",
   "metadata": {},
   "source": [
    "| Picture            | Object    | Predicted Box                             | GT Box                                    |   Predicted Length |   GT Length |   Predicted Width |   GT Width |\n",
    "|:-------------------|:----------|:------------------------------------------|:------------------------------------------|-------------------:|------------:|------------------:|-----------:|\n",
    "| Straight_no_shadow | Card      | [(230,181),(444,181),(445,314),(228,315)] | [(230,181),(444,181),(445,315),(228,315)] |                5.3 |         5.3 |               8.5 |        8.4 |\n",
    "| Straight_no_shadow | Circle    | [(473,324),(575,340),(559,446),(455,430)] | [(473,324),(577,339),(561,449),(454,432)] |                4.4 |         3.7 |               3.9 |        3.7 |\n",
    "| Straight_no_shadow | Complex   | [(244,381),(286,364),(310,428),(267,445)] | [(244,381),(282,366),(307,426),(269,443)] |                3.2 |         2.3 |               1.9 |        1.3 |\n",
    "| Straight_no_shadow | Square    | [(562,238),(684,167),(755,282),(633,354)] | [(562,238),(684,167),(757,285),(634,357)] |                5.7 |         5   |               5.7 |        5   |\n",
    "| Straight_no_shadow | Complex   | [(308,498),(796,473),(806,571),(315,596)] | [(312,497),(792,475),(805,593),(318,612)] |                3.7 |         4.1 |              19.5 |       19.3 |\n",
    "| Tilted_cards       | Square    | [(278,145),(447,144),(442,284),(253,286)] | [(278,147),(447,144),(441,284),(256,287)] |                7.5 |         7.5 |               7.5 |        7.5 |\n",
    "| Tilted_cards       | Card      | [(372,321),(586,368),(558,493),(326,438)] | [(372,324),(585,373),(558,493),(328,435)] |                8.7 |         8.7 |               5.1 |        5   |\n",
    "| Tilted_cards       | Card      | [(621,146),(741,139),(776,304),(640,309)] | [(621,146),(741,139),(775,300),(639,305)] |                5.3 |         5.3 |               8.6 |        8.4 |"
   ]
  },
  {
   "cell_type": "markdown",
   "id": "b1619c8a",
   "metadata": {},
   "source": [
    "# Get Intersection over Union"
   ]
  },
  {
   "cell_type": "code",
   "execution_count": 7,
   "id": "b449421a",
   "metadata": {},
   "outputs": [],
   "source": [
    "pred_boxes = [\n",
    "    [(230,181),(444,181),(445,314),(228,315)], \n",
    "    [(473,324),(575,340),(559,446),(455,430)], \n",
    "    [(244,381),(286,364),(310,428),(267,445)],\n",
    "    [(562,238),(684,167),(755,282),(633,354)],\n",
    "    [(308,498),(796,473),(806,571),(315,596)],\n",
    "    [(278,145),(447,144),(442,284),(253,286)],\n",
    "    [(372,321),(586,368),(558,493),(326,438)],\n",
    "    [(621,146),(741,139),(776,304),(640,309)]\n",
    "]\n",
    "\n",
    "GT_boxes = [\n",
    "    [(230,181),(444,181),(445,315),(228,315)],\n",
    "    [(473,324),(577,339),(561,449),(454,432)],\n",
    "    [(244,381),(282,366),(307,426),(269,443)],\n",
    "    [(562,238),(684,167),(757,285),(634,357)],\n",
    "    [(312,497),(792,475),(805,593),(318,612)],\n",
    "    [(278,147),(447,144),(441,284),(256,287)],\n",
    "    [(372,324),(585,373),(558,493),(328,435)],\n",
    "    [(621,146),(741,139),(775,300),(639,305)]\n",
    "]"
   ]
  },
  {
   "cell_type": "code",
   "execution_count": 15,
   "id": "6f921082",
   "metadata": {},
   "outputs": [
    {
     "name": "stdout",
     "output_type": "stream",
     "text": [
      "[28768.50373121497, 11190.0, 2718.0, 19167.5, 47205.7470914867, 24643.6161692114, 27475.29842483123, 20593.572699097153]\n",
      "[28877.496268785035, 11779.5, 3119.5, 19700.0, 57500.25290851328, 25221.3838307886, 28877.20157516877, 21196.427300902844]\n",
      "[0.9962256929563564, 0.9499554310454603, 0.8712934765186728, 0.9729695431472081, 0.8209659036907921, 0.9770921506348157, 0.9514529430184461, 0.9715586691451529]\n"
     ]
    }
   ],
   "source": [
    "from shapely import Polygon\n",
    "\n",
    "intersections = []\n",
    "unions = []\n",
    "IOUs = []\n",
    "\n",
    "for i in range(len(pred_boxes)):\n",
    "    pred = Polygon(pred_boxes[i])\n",
    "    GT = Polygon(GT_boxes[i])\n",
    "    intersections.append(pred.intersection(GT).area)\n",
    "    unions.append(pred.union(GT).area)\n",
    "    IOUs.append(intersections[i] / unions[i])\n",
    "\n",
    "print(intersections)\n",
    "print(unions)\n",
    "print(IOUs)"
   ]
  },
  {
   "cell_type": "code",
   "execution_count": null,
   "id": "8d359501",
   "metadata": {},
   "outputs": [],
   "source": [
    "df[\"IOU\"] = IOUs\n",
    "print(df[[\"Picture\", \"Object\", \"IOU\"]].to_markdown(index=False))"
   ]
  },
  {
   "cell_type": "markdown",
   "id": "1b77327f",
   "metadata": {},
   "source": [
    "| Picture            | Object   |      IOU |\n",
    "|:-------------------|:---------|---------:|\n",
    "| Straight_no_shadow | Card     | 0.996226 |\n",
    "| Straight_no_shadow | Circle   | 0.949955 |\n",
    "| Straight_no_shadow | Complex  | 0.871293 |\n",
    "| Straight_no_shadow | Square   | 0.97297  |\n",
    "| Straight_no_shadow | Complex  | 0.820966 |\n",
    "| Tilted_cards       | Square   | 0.977092 |\n",
    "| Tilted_cards       | Card     | 0.951453 |\n",
    "| Tilted_cards       | Card     | 0.971559 |"
   ]
  },
  {
   "cell_type": "code",
   "execution_count": 17,
   "id": "6c6ac607",
   "metadata": {},
   "outputs": [
    {
     "name": "stdout",
     "output_type": "stream",
     "text": [
      "Average IOU:  0.938939226269613\n"
     ]
    }
   ],
   "source": [
    "import numpy as np\n",
    "\n",
    "print(\"Average IOU: \", np.sum(IOUs) / len(IOUs))"
   ]
  },
  {
   "cell_type": "markdown",
   "id": "41a82f1a",
   "metadata": {},
   "source": [
    "# Measurements evaluation"
   ]
  },
  {
   "cell_type": "code",
   "execution_count": 36,
   "id": "b979309e",
   "metadata": {},
   "outputs": [],
   "source": [
    "pred_l = [5.3, 4.4, 3.2, 5.7, 3.7, 7.5, 8.7, 5.3]\n",
    "GT_l = [5.3, 3.7, 2.3, 5, 4.1, 7.5, 8.7, 5.3]\n",
    "\n",
    "pred_w = [8.5, 3.9, 1.9, 5.7, 19.5, 7.5, 5.1, 8.6]\n",
    "GT_w = [8.4, 3.7, 1.3, 5, 19.3, 7.5, 5, 8.4]"
   ]
  },
  {
   "cell_type": "code",
   "execution_count": 38,
   "id": "dba06d56",
   "metadata": {},
   "outputs": [
    {
     "name": "stdout",
     "output_type": "stream",
     "text": [
      "MAE length 0.3375\n",
      "MAE width 0.26249999999999973\n",
      "MAE 0.2999999999999999\n"
     ]
    }
   ],
   "source": [
    "from sklearn.metrics import mean_absolute_error\n",
    "\n",
    "MAE_l = mean_absolute_error(pred_l,GT_l)\n",
    "MAE_w = mean_absolute_error(pred_w,GT_w)\n",
    "\n",
    "MAE = (MAEs_l + MAEs_w)/2\n",
    "\n",
    "print(\"MAE length\", MAE_l)\n",
    "print(\"MAE width\", MAE_w)\n",
    "print(\"MAE\", MAE)"
   ]
  },
  {
   "cell_type": "code",
   "execution_count": 39,
   "id": "5b721c7d",
   "metadata": {},
   "outputs": [
    {
     "name": "stdout",
     "output_type": "stream",
     "text": [
      "R Squared 0.9883741334354881\n"
     ]
    }
   ],
   "source": [
    "from sklearn.metrics import r2_score\n",
    "\n",
    "r2 = r2_score(GT_l + GT_w, pred_l + pred_w)\n",
    "\n",
    "print(\"R Squared\", r2)"
   ]
  },
  {
   "cell_type": "code",
   "execution_count": null,
   "id": "7d49031a",
   "metadata": {},
   "outputs": [],
   "source": []
  }
 ],
 "metadata": {
  "kernelspec": {
   "display_name": "Python 3 (ipykernel)",
   "language": "python",
   "name": "python3"
  },
  "language_info": {
   "codemirror_mode": {
    "name": "ipython",
    "version": 3
   },
   "file_extension": ".py",
   "mimetype": "text/x-python",
   "name": "python",
   "nbconvert_exporter": "python",
   "pygments_lexer": "ipython3",
   "version": "3.9.16"
  }
 },
 "nbformat": 4,
 "nbformat_minor": 5
}
